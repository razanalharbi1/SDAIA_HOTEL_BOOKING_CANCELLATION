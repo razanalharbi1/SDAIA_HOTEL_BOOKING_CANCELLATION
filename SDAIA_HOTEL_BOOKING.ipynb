{
 "cells": [
  {
   "cell_type": "code",
   "execution_count": 524,
   "id": "bbf733ed",
   "metadata": {},
   "outputs": [],
   "source": [
    "# import libraries:\n",
    "import pandas as pd\n",
    "import numpy as np \n",
    "import matplotlib.pyplot as plt\n",
    "import seaborn as sns \n",
    "import re\n",
    "import pickle\n",
    "\n",
    "\n",
    "from sklearn.preprocessing import StandardScaler\n",
    "from sklearn.model_selection import train_test_split, GridSearchCV, cross_val_score, StratifiedKFold\n",
    "from sklearn.pipeline import Pipeline\n",
    "from sklearn.dummy import DummyClassifier\n",
    "from sklearn.linear_model import LogisticRegression\n",
    "from sklearn.tree import DecisionTreeClassifier\n",
    "from sklearn.ensemble import BaggingClassifier, RandomForestClassifier\n",
    "from sklearn.metrics import confusion_matrix\n",
    "\n",
    "\n",
    "RANDOM_STATE = 42"
   ]
  },
  {
   "cell_type": "code",
   "execution_count": 525,
   "id": "22af3752",
   "metadata": {},
   "outputs": [
    {
     "data": {
      "text/html": [
       "<div>\n",
       "<style scoped>\n",
       "    .dataframe tbody tr th:only-of-type {\n",
       "        vertical-align: middle;\n",
       "    }\n",
       "\n",
       "    .dataframe tbody tr th {\n",
       "        vertical-align: top;\n",
       "    }\n",
       "\n",
       "    .dataframe thead th {\n",
       "        text-align: right;\n",
       "    }\n",
       "</style>\n",
       "<table border=\"1\" class=\"dataframe\">\n",
       "  <thead>\n",
       "    <tr style=\"text-align: right;\">\n",
       "      <th></th>\n",
       "      <th>hotel</th>\n",
       "      <th>is_canceled</th>\n",
       "      <th>lead_time</th>\n",
       "      <th>arrival_date_year</th>\n",
       "      <th>arrival_date_month</th>\n",
       "      <th>arrival_date_week_number</th>\n",
       "      <th>arrival_date_day_of_month</th>\n",
       "      <th>stays_in_weekend_nights</th>\n",
       "      <th>stays_in_week_nights</th>\n",
       "      <th>adults</th>\n",
       "      <th>...</th>\n",
       "      <th>deposit_type</th>\n",
       "      <th>agent</th>\n",
       "      <th>company</th>\n",
       "      <th>days_in_waiting_list</th>\n",
       "      <th>customer_type</th>\n",
       "      <th>adr</th>\n",
       "      <th>required_car_parking_spaces</th>\n",
       "      <th>total_of_special_requests</th>\n",
       "      <th>reservation_status</th>\n",
       "      <th>reservation_status_date</th>\n",
       "    </tr>\n",
       "  </thead>\n",
       "  <tbody>\n",
       "    <tr>\n",
       "      <th>0</th>\n",
       "      <td>Resort Hotel</td>\n",
       "      <td>0</td>\n",
       "      <td>342</td>\n",
       "      <td>2015</td>\n",
       "      <td>July</td>\n",
       "      <td>27</td>\n",
       "      <td>1</td>\n",
       "      <td>0</td>\n",
       "      <td>0</td>\n",
       "      <td>2</td>\n",
       "      <td>...</td>\n",
       "      <td>No Deposit</td>\n",
       "      <td>NaN</td>\n",
       "      <td>NaN</td>\n",
       "      <td>0</td>\n",
       "      <td>Transient</td>\n",
       "      <td>0.00</td>\n",
       "      <td>0</td>\n",
       "      <td>0</td>\n",
       "      <td>Check-Out</td>\n",
       "      <td>2015-07-01</td>\n",
       "    </tr>\n",
       "    <tr>\n",
       "      <th>1</th>\n",
       "      <td>Resort Hotel</td>\n",
       "      <td>0</td>\n",
       "      <td>737</td>\n",
       "      <td>2015</td>\n",
       "      <td>July</td>\n",
       "      <td>27</td>\n",
       "      <td>1</td>\n",
       "      <td>0</td>\n",
       "      <td>0</td>\n",
       "      <td>2</td>\n",
       "      <td>...</td>\n",
       "      <td>No Deposit</td>\n",
       "      <td>NaN</td>\n",
       "      <td>NaN</td>\n",
       "      <td>0</td>\n",
       "      <td>Transient</td>\n",
       "      <td>0.00</td>\n",
       "      <td>0</td>\n",
       "      <td>0</td>\n",
       "      <td>Check-Out</td>\n",
       "      <td>2015-07-01</td>\n",
       "    </tr>\n",
       "    <tr>\n",
       "      <th>2</th>\n",
       "      <td>Resort Hotel</td>\n",
       "      <td>0</td>\n",
       "      <td>7</td>\n",
       "      <td>2015</td>\n",
       "      <td>July</td>\n",
       "      <td>27</td>\n",
       "      <td>1</td>\n",
       "      <td>0</td>\n",
       "      <td>1</td>\n",
       "      <td>1</td>\n",
       "      <td>...</td>\n",
       "      <td>No Deposit</td>\n",
       "      <td>NaN</td>\n",
       "      <td>NaN</td>\n",
       "      <td>0</td>\n",
       "      <td>Transient</td>\n",
       "      <td>75.00</td>\n",
       "      <td>0</td>\n",
       "      <td>0</td>\n",
       "      <td>Check-Out</td>\n",
       "      <td>2015-07-02</td>\n",
       "    </tr>\n",
       "    <tr>\n",
       "      <th>3</th>\n",
       "      <td>Resort Hotel</td>\n",
       "      <td>0</td>\n",
       "      <td>13</td>\n",
       "      <td>2015</td>\n",
       "      <td>July</td>\n",
       "      <td>27</td>\n",
       "      <td>1</td>\n",
       "      <td>0</td>\n",
       "      <td>1</td>\n",
       "      <td>1</td>\n",
       "      <td>...</td>\n",
       "      <td>No Deposit</td>\n",
       "      <td>304.0</td>\n",
       "      <td>NaN</td>\n",
       "      <td>0</td>\n",
       "      <td>Transient</td>\n",
       "      <td>75.00</td>\n",
       "      <td>0</td>\n",
       "      <td>0</td>\n",
       "      <td>Check-Out</td>\n",
       "      <td>2015-07-02</td>\n",
       "    </tr>\n",
       "    <tr>\n",
       "      <th>4</th>\n",
       "      <td>Resort Hotel</td>\n",
       "      <td>0</td>\n",
       "      <td>14</td>\n",
       "      <td>2015</td>\n",
       "      <td>July</td>\n",
       "      <td>27</td>\n",
       "      <td>1</td>\n",
       "      <td>0</td>\n",
       "      <td>2</td>\n",
       "      <td>2</td>\n",
       "      <td>...</td>\n",
       "      <td>No Deposit</td>\n",
       "      <td>240.0</td>\n",
       "      <td>NaN</td>\n",
       "      <td>0</td>\n",
       "      <td>Transient</td>\n",
       "      <td>98.00</td>\n",
       "      <td>0</td>\n",
       "      <td>1</td>\n",
       "      <td>Check-Out</td>\n",
       "      <td>2015-07-03</td>\n",
       "    </tr>\n",
       "    <tr>\n",
       "      <th>...</th>\n",
       "      <td>...</td>\n",
       "      <td>...</td>\n",
       "      <td>...</td>\n",
       "      <td>...</td>\n",
       "      <td>...</td>\n",
       "      <td>...</td>\n",
       "      <td>...</td>\n",
       "      <td>...</td>\n",
       "      <td>...</td>\n",
       "      <td>...</td>\n",
       "      <td>...</td>\n",
       "      <td>...</td>\n",
       "      <td>...</td>\n",
       "      <td>...</td>\n",
       "      <td>...</td>\n",
       "      <td>...</td>\n",
       "      <td>...</td>\n",
       "      <td>...</td>\n",
       "      <td>...</td>\n",
       "      <td>...</td>\n",
       "      <td>...</td>\n",
       "    </tr>\n",
       "    <tr>\n",
       "      <th>119385</th>\n",
       "      <td>City Hotel</td>\n",
       "      <td>0</td>\n",
       "      <td>23</td>\n",
       "      <td>2017</td>\n",
       "      <td>August</td>\n",
       "      <td>35</td>\n",
       "      <td>30</td>\n",
       "      <td>2</td>\n",
       "      <td>5</td>\n",
       "      <td>2</td>\n",
       "      <td>...</td>\n",
       "      <td>No Deposit</td>\n",
       "      <td>394.0</td>\n",
       "      <td>NaN</td>\n",
       "      <td>0</td>\n",
       "      <td>Transient</td>\n",
       "      <td>96.14</td>\n",
       "      <td>0</td>\n",
       "      <td>0</td>\n",
       "      <td>Check-Out</td>\n",
       "      <td>2017-09-06</td>\n",
       "    </tr>\n",
       "    <tr>\n",
       "      <th>119386</th>\n",
       "      <td>City Hotel</td>\n",
       "      <td>0</td>\n",
       "      <td>102</td>\n",
       "      <td>2017</td>\n",
       "      <td>August</td>\n",
       "      <td>35</td>\n",
       "      <td>31</td>\n",
       "      <td>2</td>\n",
       "      <td>5</td>\n",
       "      <td>3</td>\n",
       "      <td>...</td>\n",
       "      <td>No Deposit</td>\n",
       "      <td>9.0</td>\n",
       "      <td>NaN</td>\n",
       "      <td>0</td>\n",
       "      <td>Transient</td>\n",
       "      <td>225.43</td>\n",
       "      <td>0</td>\n",
       "      <td>2</td>\n",
       "      <td>Check-Out</td>\n",
       "      <td>2017-09-07</td>\n",
       "    </tr>\n",
       "    <tr>\n",
       "      <th>119387</th>\n",
       "      <td>City Hotel</td>\n",
       "      <td>0</td>\n",
       "      <td>34</td>\n",
       "      <td>2017</td>\n",
       "      <td>August</td>\n",
       "      <td>35</td>\n",
       "      <td>31</td>\n",
       "      <td>2</td>\n",
       "      <td>5</td>\n",
       "      <td>2</td>\n",
       "      <td>...</td>\n",
       "      <td>No Deposit</td>\n",
       "      <td>9.0</td>\n",
       "      <td>NaN</td>\n",
       "      <td>0</td>\n",
       "      <td>Transient</td>\n",
       "      <td>157.71</td>\n",
       "      <td>0</td>\n",
       "      <td>4</td>\n",
       "      <td>Check-Out</td>\n",
       "      <td>2017-09-07</td>\n",
       "    </tr>\n",
       "    <tr>\n",
       "      <th>119388</th>\n",
       "      <td>City Hotel</td>\n",
       "      <td>0</td>\n",
       "      <td>109</td>\n",
       "      <td>2017</td>\n",
       "      <td>August</td>\n",
       "      <td>35</td>\n",
       "      <td>31</td>\n",
       "      <td>2</td>\n",
       "      <td>5</td>\n",
       "      <td>2</td>\n",
       "      <td>...</td>\n",
       "      <td>No Deposit</td>\n",
       "      <td>89.0</td>\n",
       "      <td>NaN</td>\n",
       "      <td>0</td>\n",
       "      <td>Transient</td>\n",
       "      <td>104.40</td>\n",
       "      <td>0</td>\n",
       "      <td>0</td>\n",
       "      <td>Check-Out</td>\n",
       "      <td>2017-09-07</td>\n",
       "    </tr>\n",
       "    <tr>\n",
       "      <th>119389</th>\n",
       "      <td>City Hotel</td>\n",
       "      <td>0</td>\n",
       "      <td>205</td>\n",
       "      <td>2017</td>\n",
       "      <td>August</td>\n",
       "      <td>35</td>\n",
       "      <td>29</td>\n",
       "      <td>2</td>\n",
       "      <td>7</td>\n",
       "      <td>2</td>\n",
       "      <td>...</td>\n",
       "      <td>No Deposit</td>\n",
       "      <td>9.0</td>\n",
       "      <td>NaN</td>\n",
       "      <td>0</td>\n",
       "      <td>Transient</td>\n",
       "      <td>151.20</td>\n",
       "      <td>0</td>\n",
       "      <td>2</td>\n",
       "      <td>Check-Out</td>\n",
       "      <td>2017-09-07</td>\n",
       "    </tr>\n",
       "  </tbody>\n",
       "</table>\n",
       "<p>119390 rows × 32 columns</p>\n",
       "</div>"
      ],
      "text/plain": [
       "               hotel  is_canceled  lead_time  arrival_date_year  \\\n",
       "0       Resort Hotel            0        342               2015   \n",
       "1       Resort Hotel            0        737               2015   \n",
       "2       Resort Hotel            0          7               2015   \n",
       "3       Resort Hotel            0         13               2015   \n",
       "4       Resort Hotel            0         14               2015   \n",
       "...              ...          ...        ...                ...   \n",
       "119385    City Hotel            0         23               2017   \n",
       "119386    City Hotel            0        102               2017   \n",
       "119387    City Hotel            0         34               2017   \n",
       "119388    City Hotel            0        109               2017   \n",
       "119389    City Hotel            0        205               2017   \n",
       "\n",
       "       arrival_date_month  arrival_date_week_number  \\\n",
       "0                    July                        27   \n",
       "1                    July                        27   \n",
       "2                    July                        27   \n",
       "3                    July                        27   \n",
       "4                    July                        27   \n",
       "...                   ...                       ...   \n",
       "119385             August                        35   \n",
       "119386             August                        35   \n",
       "119387             August                        35   \n",
       "119388             August                        35   \n",
       "119389             August                        35   \n",
       "\n",
       "        arrival_date_day_of_month  stays_in_weekend_nights  \\\n",
       "0                               1                        0   \n",
       "1                               1                        0   \n",
       "2                               1                        0   \n",
       "3                               1                        0   \n",
       "4                               1                        0   \n",
       "...                           ...                      ...   \n",
       "119385                         30                        2   \n",
       "119386                         31                        2   \n",
       "119387                         31                        2   \n",
       "119388                         31                        2   \n",
       "119389                         29                        2   \n",
       "\n",
       "        stays_in_week_nights  adults  ...  deposit_type  agent company  \\\n",
       "0                          0       2  ...    No Deposit    NaN     NaN   \n",
       "1                          0       2  ...    No Deposit    NaN     NaN   \n",
       "2                          1       1  ...    No Deposit    NaN     NaN   \n",
       "3                          1       1  ...    No Deposit  304.0     NaN   \n",
       "4                          2       2  ...    No Deposit  240.0     NaN   \n",
       "...                      ...     ...  ...           ...    ...     ...   \n",
       "119385                     5       2  ...    No Deposit  394.0     NaN   \n",
       "119386                     5       3  ...    No Deposit    9.0     NaN   \n",
       "119387                     5       2  ...    No Deposit    9.0     NaN   \n",
       "119388                     5       2  ...    No Deposit   89.0     NaN   \n",
       "119389                     7       2  ...    No Deposit    9.0     NaN   \n",
       "\n",
       "       days_in_waiting_list customer_type     adr  \\\n",
       "0                         0     Transient    0.00   \n",
       "1                         0     Transient    0.00   \n",
       "2                         0     Transient   75.00   \n",
       "3                         0     Transient   75.00   \n",
       "4                         0     Transient   98.00   \n",
       "...                     ...           ...     ...   \n",
       "119385                    0     Transient   96.14   \n",
       "119386                    0     Transient  225.43   \n",
       "119387                    0     Transient  157.71   \n",
       "119388                    0     Transient  104.40   \n",
       "119389                    0     Transient  151.20   \n",
       "\n",
       "        required_car_parking_spaces  total_of_special_requests  \\\n",
       "0                                 0                          0   \n",
       "1                                 0                          0   \n",
       "2                                 0                          0   \n",
       "3                                 0                          0   \n",
       "4                                 0                          1   \n",
       "...                             ...                        ...   \n",
       "119385                            0                          0   \n",
       "119386                            0                          2   \n",
       "119387                            0                          4   \n",
       "119388                            0                          0   \n",
       "119389                            0                          2   \n",
       "\n",
       "        reservation_status reservation_status_date  \n",
       "0                Check-Out              2015-07-01  \n",
       "1                Check-Out              2015-07-01  \n",
       "2                Check-Out              2015-07-02  \n",
       "3                Check-Out              2015-07-02  \n",
       "4                Check-Out              2015-07-03  \n",
       "...                    ...                     ...  \n",
       "119385           Check-Out              2017-09-06  \n",
       "119386           Check-Out              2017-09-07  \n",
       "119387           Check-Out              2017-09-07  \n",
       "119388           Check-Out              2017-09-07  \n",
       "119389           Check-Out              2017-09-07  \n",
       "\n",
       "[119390 rows x 32 columns]"
      ]
     },
     "execution_count": 525,
     "metadata": {},
     "output_type": "execute_result"
    }
   ],
   "source": [
    "# load dataset:\n",
    "data = pd.read_csv('hotel_bookings.csv')\n",
    "# print\n",
    "data"
   ]
  },
  {
   "cell_type": "code",
   "execution_count": 526,
   "id": "ad3253b2",
   "metadata": {},
   "outputs": [
    {
     "data": {
      "text/plain": [
       "(119390, 32)"
      ]
     },
     "execution_count": 526,
     "metadata": {},
     "output_type": "execute_result"
    }
   ],
   "source": [
    "data.shape"
   ]
  },
  {
   "cell_type": "code",
   "execution_count": 527,
   "id": "5384dd09",
   "metadata": {},
   "outputs": [
    {
     "name": "stdout",
     "output_type": "stream",
     "text": [
      "<class 'pandas.core.frame.DataFrame'>\n",
      "RangeIndex: 119390 entries, 0 to 119389\n",
      "Data columns (total 32 columns):\n",
      " #   Column                          Non-Null Count   Dtype  \n",
      "---  ------                          --------------   -----  \n",
      " 0   hotel                           119390 non-null  object \n",
      " 1   is_canceled                     119390 non-null  int64  \n",
      " 2   lead_time                       119390 non-null  int64  \n",
      " 3   arrival_date_year               119390 non-null  int64  \n",
      " 4   arrival_date_month              119390 non-null  object \n",
      " 5   arrival_date_week_number        119390 non-null  int64  \n",
      " 6   arrival_date_day_of_month       119390 non-null  int64  \n",
      " 7   stays_in_weekend_nights         119390 non-null  int64  \n",
      " 8   stays_in_week_nights            119390 non-null  int64  \n",
      " 9   adults                          119390 non-null  int64  \n",
      " 10  children                        119386 non-null  float64\n",
      " 11  babies                          119390 non-null  int64  \n",
      " 12  meal                            119390 non-null  object \n",
      " 13  country                         118902 non-null  object \n",
      " 14  market_segment                  119390 non-null  object \n",
      " 15  distribution_channel            119390 non-null  object \n",
      " 16  is_repeated_guest               119390 non-null  int64  \n",
      " 17  previous_cancellations          119390 non-null  int64  \n",
      " 18  previous_bookings_not_canceled  119390 non-null  int64  \n",
      " 19  reserved_room_type              119390 non-null  object \n",
      " 20  assigned_room_type              119390 non-null  object \n",
      " 21  booking_changes                 119390 non-null  int64  \n",
      " 22  deposit_type                    119390 non-null  object \n",
      " 23  agent                           103050 non-null  float64\n",
      " 24  company                         6797 non-null    float64\n",
      " 25  days_in_waiting_list            119390 non-null  int64  \n",
      " 26  customer_type                   119390 non-null  object \n",
      " 27  adr                             119390 non-null  float64\n",
      " 28  required_car_parking_spaces     119390 non-null  int64  \n",
      " 29  total_of_special_requests       119390 non-null  int64  \n",
      " 30  reservation_status              119390 non-null  object \n",
      " 31  reservation_status_date         119390 non-null  object \n",
      "dtypes: float64(4), int64(16), object(12)\n",
      "memory usage: 29.1+ MB\n"
     ]
    }
   ],
   "source": [
    "# Print data Summary:\n",
    "data.info()"
   ]
  },
  {
   "cell_type": "code",
   "execution_count": 528,
   "id": "458466e3",
   "metadata": {},
   "outputs": [
    {
     "data": {
      "text/plain": [
       "Index(['hotel', 'is_canceled', 'lead_time', 'arrival_date_year',\n",
       "       'arrival_date_month', 'arrival_date_week_number',\n",
       "       'arrival_date_day_of_month', 'stays_in_weekend_nights',\n",
       "       'stays_in_week_nights', 'adults', 'children', 'babies', 'meal',\n",
       "       'country', 'market_segment', 'distribution_channel',\n",
       "       'is_repeated_guest', 'previous_cancellations',\n",
       "       'previous_bookings_not_canceled', 'reserved_room_type',\n",
       "       'assigned_room_type', 'booking_changes', 'deposit_type', 'agent',\n",
       "       'company', 'days_in_waiting_list', 'customer_type', 'adr',\n",
       "       'required_car_parking_spaces', 'total_of_special_requests',\n",
       "       'reservation_status', 'reservation_status_date'],\n",
       "      dtype='object')"
      ]
     },
     "execution_count": 528,
     "metadata": {},
     "output_type": "execute_result"
    }
   ],
   "source": [
    "# Print columns\n",
    "data.columns"
   ]
  },
  {
   "cell_type": "markdown",
   "id": "f84dea40",
   "metadata": {},
   "source": [
    " Data Cleaning\n",
    "Missing Data\n",
    "As models cannot take in null values, it is important to check for and handle missing data before modeling."
   ]
  },
  {
   "cell_type": "code",
   "execution_count": 529,
   "id": "a2c447e0",
   "metadata": {},
   "outputs": [
    {
     "data": {
      "text/plain": [
       "hotel                                  0\n",
       "is_canceled                            0\n",
       "lead_time                              0\n",
       "arrival_date_year                      0\n",
       "arrival_date_month                     0\n",
       "arrival_date_week_number               0\n",
       "arrival_date_day_of_month              0\n",
       "stays_in_weekend_nights                0\n",
       "stays_in_week_nights                   0\n",
       "adults                                 0\n",
       "children                               4\n",
       "babies                                 0\n",
       "meal                                   0\n",
       "country                              488\n",
       "market_segment                         0\n",
       "distribution_channel                   0\n",
       "is_repeated_guest                      0\n",
       "previous_cancellations                 0\n",
       "previous_bookings_not_canceled         0\n",
       "reserved_room_type                     0\n",
       "assigned_room_type                     0\n",
       "booking_changes                        0\n",
       "deposit_type                           0\n",
       "agent                              16340\n",
       "company                           112593\n",
       "days_in_waiting_list                   0\n",
       "customer_type                          0\n",
       "adr                                    0\n",
       "required_car_parking_spaces            0\n",
       "total_of_special_requests              0\n",
       "reservation_status                     0\n",
       "reservation_status_date                0\n",
       "dtype: int64"
      ]
     },
     "execution_count": 529,
     "metadata": {},
     "output_type": "execute_result"
    }
   ],
   "source": [
    "# Checking for missing data\n",
    "data.isnull().sum()"
   ]
  },
  {
   "cell_type": "markdown",
   "id": "ae9592f7",
   "metadata": {},
   "source": [
    "we found features contain missing data:\n",
    "\n",
    "children contains 4 observations with missing values.\n",
    "country contains 488 rows with missing values."
   ]
  },
  {
   "cell_type": "code",
   "execution_count": 530,
   "id": "e6049dc7",
   "metadata": {},
   "outputs": [],
   "source": [
    "# Replacing null value for country feature with \"unknown\"\n",
    "data['country'].fillna(\"unknown\", inplace=True)"
   ]
  },
  {
   "cell_type": "code",
   "execution_count": 531,
   "id": "21303aff",
   "metadata": {},
   "outputs": [],
   "source": [
    "## I will  drop subset of the Children feature becaouse is have  missing data  \n",
    "data.dropna(subset=['children'], inplace=True)"
   ]
  },
  {
   "cell_type": "code",
   "execution_count": 532,
   "id": "992c6309",
   "metadata": {},
   "outputs": [],
   "source": [
    "# Changing agent value of \"NULL\" to \"No Agent\":\n",
    "data['agent'] = data['agent'].fillna(0)"
   ]
  },
  {
   "cell_type": "code",
   "execution_count": 533,
   "id": "3096d476",
   "metadata": {},
   "outputs": [],
   "source": [
    "# Changing company value of \"NULL\" to \"No Company\":\n",
    "data['company'] = data['company'].fillna(0)"
   ]
  },
  {
   "cell_type": "code",
   "execution_count": 534,
   "id": "6a8b3340",
   "metadata": {},
   "outputs": [
    {
     "data": {
      "text/plain": [
       "hotel                             0\n",
       "is_canceled                       0\n",
       "lead_time                         0\n",
       "arrival_date_year                 0\n",
       "arrival_date_month                0\n",
       "arrival_date_week_number          0\n",
       "arrival_date_day_of_month         0\n",
       "stays_in_weekend_nights           0\n",
       "stays_in_week_nights              0\n",
       "adults                            0\n",
       "children                          0\n",
       "babies                            0\n",
       "meal                              0\n",
       "country                           0\n",
       "market_segment                    0\n",
       "distribution_channel              0\n",
       "is_repeated_guest                 0\n",
       "previous_cancellations            0\n",
       "previous_bookings_not_canceled    0\n",
       "reserved_room_type                0\n",
       "assigned_room_type                0\n",
       "booking_changes                   0\n",
       "deposit_type                      0\n",
       "agent                             0\n",
       "company                           0\n",
       "days_in_waiting_list              0\n",
       "customer_type                     0\n",
       "adr                               0\n",
       "required_car_parking_spaces       0\n",
       "total_of_special_requests         0\n",
       "reservation_status                0\n",
       "reservation_status_date           0\n",
       "dtype: int64"
      ]
     },
     "execution_count": 534,
     "metadata": {},
     "output_type": "execute_result"
    }
   ],
   "source": [
    "data.isnull().sum()"
   ]
  },
  {
   "cell_type": "markdown",
   "id": "30d62f15",
   "metadata": {},
   "source": [
    "Dataset did not contains any missing values."
   ]
  },
  {
   "cell_type": "markdown",
   "id": "4caadfb7",
   "metadata": {},
   "source": [
    "### Data Types\n"
   ]
  },
  {
   "cell_type": "code",
   "execution_count": 535,
   "id": "d2e9af66",
   "metadata": {
    "scrolled": true
   },
   "outputs": [
    {
     "data": {
      "text/plain": [
       "hotel                              object\n",
       "is_canceled                         int64\n",
       "lead_time                           int64\n",
       "arrival_date_year                   int64\n",
       "arrival_date_month                 object\n",
       "arrival_date_week_number            int64\n",
       "arrival_date_day_of_month           int64\n",
       "stays_in_weekend_nights             int64\n",
       "stays_in_week_nights                int64\n",
       "adults                              int64\n",
       "children                          float64\n",
       "babies                              int64\n",
       "meal                               object\n",
       "country                            object\n",
       "market_segment                     object\n",
       "distribution_channel               object\n",
       "is_repeated_guest                   int64\n",
       "previous_cancellations              int64\n",
       "previous_bookings_not_canceled      int64\n",
       "reserved_room_type                 object\n",
       "assigned_room_type                 object\n",
       "booking_changes                     int64\n",
       "deposit_type                       object\n",
       "agent                             float64\n",
       "company                           float64\n",
       "days_in_waiting_list                int64\n",
       "customer_type                      object\n",
       "adr                               float64\n",
       "required_car_parking_spaces         int64\n",
       "total_of_special_requests           int64\n",
       "reservation_status                 object\n",
       "reservation_status_date            object\n",
       "dtype: object"
      ]
     },
     "execution_count": 535,
     "metadata": {},
     "output_type": "execute_result"
    }
   ],
   "source": [
    "data.dtypes"
   ]
  },
  {
   "cell_type": "code",
   "execution_count": 536,
   "id": "ec7096d7",
   "metadata": {},
   "outputs": [],
   "source": [
    "# Changing children & company to integer type: \n",
    "data['children'] = data['children'].astype(int)\n",
    "data['company'] = data['company'].astype(int)"
   ]
  },
  {
   "cell_type": "markdown",
   "id": "71cfe37f",
   "metadata": {},
   "source": [
    " ### EXPLORATORY DATA ANALYSIS📊\n"
   ]
  },
  {
   "cell_type": "markdown",
   "id": "57f8b15f",
   "metadata": {},
   "source": [
    "### Feature Engineering"
   ]
  },
  {
   "cell_type": "code",
   "execution_count": 537,
   "id": "bc67cb92",
   "metadata": {},
   "outputs": [],
   "source": [
    "# Creating the arrival date feature: \n",
    "data['arrival_date'] = data['arrival_date_year'].astype(str) + \"-\" + data['arrival_date_month'].map({'January':1, 'February':2, 'March':3, 'April':4, 'May':5, 'June':6, 'July':7, 'August':8, 'September':9, 'October':10, 'November':11, 'December':12}).astype(str) + \"-\" + data['arrival_date_day_of_month'].astype(str)\n",
    "data['arrival_date'] = pd.to_datetime(data['arrival_date'], format=\"%Y-%m-%d\")"
   ]
  },
  {
   "cell_type": "code",
   "execution_count": 538,
   "id": "c78fd0bb",
   "metadata": {},
   "outputs": [],
   "source": [
    "data[\"total_nights\"] = data[\"stays_in_weekend_nights\"] + data[\"stays_in_week_nights\"]"
   ]
  },
  {
   "cell_type": "code",
   "execution_count": 539,
   "id": "ab22185d",
   "metadata": {},
   "outputs": [
    {
     "data": {
      "text/html": [
       "<div>\n",
       "<style scoped>\n",
       "    .dataframe tbody tr th:only-of-type {\n",
       "        vertical-align: middle;\n",
       "    }\n",
       "\n",
       "    .dataframe tbody tr th {\n",
       "        vertical-align: top;\n",
       "    }\n",
       "\n",
       "    .dataframe thead th {\n",
       "        text-align: right;\n",
       "    }\n",
       "</style>\n",
       "<table border=\"1\" class=\"dataframe\">\n",
       "  <thead>\n",
       "    <tr style=\"text-align: right;\">\n",
       "      <th></th>\n",
       "      <th>hotel</th>\n",
       "      <th>is_canceled</th>\n",
       "      <th>lead_time</th>\n",
       "      <th>arrival_date_year</th>\n",
       "      <th>arrival_date_month</th>\n",
       "      <th>arrival_date_week_number</th>\n",
       "      <th>arrival_date_day_of_month</th>\n",
       "      <th>stays_in_weekend_nights</th>\n",
       "      <th>stays_in_week_nights</th>\n",
       "      <th>adults</th>\n",
       "      <th>...</th>\n",
       "      <th>company</th>\n",
       "      <th>days_in_waiting_list</th>\n",
       "      <th>customer_type</th>\n",
       "      <th>adr</th>\n",
       "      <th>required_car_parking_spaces</th>\n",
       "      <th>total_of_special_requests</th>\n",
       "      <th>reservation_status</th>\n",
       "      <th>reservation_status_date</th>\n",
       "      <th>arrival_date</th>\n",
       "      <th>total_nights</th>\n",
       "    </tr>\n",
       "  </thead>\n",
       "  <tbody>\n",
       "    <tr>\n",
       "      <th>0</th>\n",
       "      <td>Resort Hotel</td>\n",
       "      <td>0</td>\n",
       "      <td>342</td>\n",
       "      <td>2015</td>\n",
       "      <td>July</td>\n",
       "      <td>27</td>\n",
       "      <td>1</td>\n",
       "      <td>0</td>\n",
       "      <td>0</td>\n",
       "      <td>2</td>\n",
       "      <td>...</td>\n",
       "      <td>0</td>\n",
       "      <td>0</td>\n",
       "      <td>Transient</td>\n",
       "      <td>0.0</td>\n",
       "      <td>0</td>\n",
       "      <td>0</td>\n",
       "      <td>Check-Out</td>\n",
       "      <td>2015-07-01</td>\n",
       "      <td>2015-07-01</td>\n",
       "      <td>0</td>\n",
       "    </tr>\n",
       "    <tr>\n",
       "      <th>1</th>\n",
       "      <td>Resort Hotel</td>\n",
       "      <td>0</td>\n",
       "      <td>737</td>\n",
       "      <td>2015</td>\n",
       "      <td>July</td>\n",
       "      <td>27</td>\n",
       "      <td>1</td>\n",
       "      <td>0</td>\n",
       "      <td>0</td>\n",
       "      <td>2</td>\n",
       "      <td>...</td>\n",
       "      <td>0</td>\n",
       "      <td>0</td>\n",
       "      <td>Transient</td>\n",
       "      <td>0.0</td>\n",
       "      <td>0</td>\n",
       "      <td>0</td>\n",
       "      <td>Check-Out</td>\n",
       "      <td>2015-07-01</td>\n",
       "      <td>2015-07-01</td>\n",
       "      <td>0</td>\n",
       "    </tr>\n",
       "    <tr>\n",
       "      <th>2</th>\n",
       "      <td>Resort Hotel</td>\n",
       "      <td>0</td>\n",
       "      <td>7</td>\n",
       "      <td>2015</td>\n",
       "      <td>July</td>\n",
       "      <td>27</td>\n",
       "      <td>1</td>\n",
       "      <td>0</td>\n",
       "      <td>1</td>\n",
       "      <td>1</td>\n",
       "      <td>...</td>\n",
       "      <td>0</td>\n",
       "      <td>0</td>\n",
       "      <td>Transient</td>\n",
       "      <td>75.0</td>\n",
       "      <td>0</td>\n",
       "      <td>0</td>\n",
       "      <td>Check-Out</td>\n",
       "      <td>2015-07-02</td>\n",
       "      <td>2015-07-01</td>\n",
       "      <td>1</td>\n",
       "    </tr>\n",
       "    <tr>\n",
       "      <th>3</th>\n",
       "      <td>Resort Hotel</td>\n",
       "      <td>0</td>\n",
       "      <td>13</td>\n",
       "      <td>2015</td>\n",
       "      <td>July</td>\n",
       "      <td>27</td>\n",
       "      <td>1</td>\n",
       "      <td>0</td>\n",
       "      <td>1</td>\n",
       "      <td>1</td>\n",
       "      <td>...</td>\n",
       "      <td>0</td>\n",
       "      <td>0</td>\n",
       "      <td>Transient</td>\n",
       "      <td>75.0</td>\n",
       "      <td>0</td>\n",
       "      <td>0</td>\n",
       "      <td>Check-Out</td>\n",
       "      <td>2015-07-02</td>\n",
       "      <td>2015-07-01</td>\n",
       "      <td>1</td>\n",
       "    </tr>\n",
       "    <tr>\n",
       "      <th>4</th>\n",
       "      <td>Resort Hotel</td>\n",
       "      <td>0</td>\n",
       "      <td>14</td>\n",
       "      <td>2015</td>\n",
       "      <td>July</td>\n",
       "      <td>27</td>\n",
       "      <td>1</td>\n",
       "      <td>0</td>\n",
       "      <td>2</td>\n",
       "      <td>2</td>\n",
       "      <td>...</td>\n",
       "      <td>0</td>\n",
       "      <td>0</td>\n",
       "      <td>Transient</td>\n",
       "      <td>98.0</td>\n",
       "      <td>0</td>\n",
       "      <td>1</td>\n",
       "      <td>Check-Out</td>\n",
       "      <td>2015-07-03</td>\n",
       "      <td>2015-07-01</td>\n",
       "      <td>2</td>\n",
       "    </tr>\n",
       "  </tbody>\n",
       "</table>\n",
       "<p>5 rows × 34 columns</p>\n",
       "</div>"
      ],
      "text/plain": [
       "          hotel  is_canceled  lead_time  arrival_date_year arrival_date_month  \\\n",
       "0  Resort Hotel            0        342               2015               July   \n",
       "1  Resort Hotel            0        737               2015               July   \n",
       "2  Resort Hotel            0          7               2015               July   \n",
       "3  Resort Hotel            0         13               2015               July   \n",
       "4  Resort Hotel            0         14               2015               July   \n",
       "\n",
       "   arrival_date_week_number  arrival_date_day_of_month  \\\n",
       "0                        27                          1   \n",
       "1                        27                          1   \n",
       "2                        27                          1   \n",
       "3                        27                          1   \n",
       "4                        27                          1   \n",
       "\n",
       "   stays_in_weekend_nights  stays_in_week_nights  adults  ...  company  \\\n",
       "0                        0                     0       2  ...        0   \n",
       "1                        0                     0       2  ...        0   \n",
       "2                        0                     1       1  ...        0   \n",
       "3                        0                     1       1  ...        0   \n",
       "4                        0                     2       2  ...        0   \n",
       "\n",
       "   days_in_waiting_list customer_type   adr required_car_parking_spaces  \\\n",
       "0                     0     Transient   0.0                           0   \n",
       "1                     0     Transient   0.0                           0   \n",
       "2                     0     Transient  75.0                           0   \n",
       "3                     0     Transient  75.0                           0   \n",
       "4                     0     Transient  98.0                           0   \n",
       "\n",
       "  total_of_special_requests  reservation_status  reservation_status_date  \\\n",
       "0                         0           Check-Out               2015-07-01   \n",
       "1                         0           Check-Out               2015-07-01   \n",
       "2                         0           Check-Out               2015-07-02   \n",
       "3                         0           Check-Out               2015-07-02   \n",
       "4                         1           Check-Out               2015-07-03   \n",
       "\n",
       "   arrival_date total_nights  \n",
       "0    2015-07-01            0  \n",
       "1    2015-07-01            0  \n",
       "2    2015-07-01            1  \n",
       "3    2015-07-01            1  \n",
       "4    2015-07-01            2  \n",
       "\n",
       "[5 rows x 34 columns]"
      ]
     },
     "execution_count": 539,
     "metadata": {},
     "output_type": "execute_result"
    }
   ],
   "source": [
    "data.head()"
   ]
  },
  {
   "cell_type": "markdown",
   "id": "badd2cf4",
   "metadata": {},
   "source": [
    "### what percentage of canceled vs not canceled bookings ?"
   ]
  },
  {
   "cell_type": "code",
   "execution_count": 540,
   "id": "dac02136",
   "metadata": {},
   "outputs": [
    {
     "data": {
      "image/png": "[encoded data removed]",
      "text/plain": [
       "<Figure size 864x360 with 1 Axes>"
      ]
     },
     "metadata": {
      "needs_background": "light"
     },
     "output_type": "display_data"
    }
   ],
   "source": [
    "# Visualizing the percentage of canceled vs not canceled bookings: \n",
    "plt.figure(figsize=(12,5)) \n",
    "plt.title(\"Percentage of Bookings per Status\", fontsize = 20, pad = 10)\n",
    "sns.barplot(x=data['is_canceled'].unique(),y=data['is_canceled'].value_counts(normalize=True), palette=['teal', 'lightblue'])\n",
    "plt.xlabel(\"Booking Status\", fontsize = 12, labelpad = 5)\n",
    "plt.ylabel(\"Percentage of Bookings  \", fontsize = 12, labelpad = 5)\n",
    "plt.xticks(ticks=[0, 1], labels=['Not Canceled', 'Canceled']);"
   ]
  },
  {
   "cell_type": "markdown",
   "id": "fd68189e",
   "metadata": {},
   "source": [
    "Interpretation: 37% of bookings were canceled. "
   ]
  },
  {
   "cell_type": "code",
   "execution_count": 541,
   "id": "b961253b",
   "metadata": {},
   "outputs": [
    {
     "name": "stdout",
     "output_type": "stream",
     "text": [
      "44220\n",
      "11122\n",
      "33098\n"
     ]
    }
   ],
   "source": [
    "total_cancelations = data['is_canceled'].sum()\n",
    "print(total_cancelations)\n",
    "rh_cancelations = data.loc[data[\"hotel\"]==\"Resort Hotel\"][\"is_canceled\"].sum()\n",
    "print(rh_cancelations)\n",
    "ch_cancelations = data.loc[data[\"hotel\"]==\"City Hotel\"][\"is_canceled\"].sum()\n",
    "print(ch_cancelations)"
   ]
  },
  {
   "cell_type": "markdown",
   "id": "4a05e9e7",
   "metadata": {},
   "source": [
    "### Which months guests are high?"
   ]
  },
  {
   "cell_type": "code",
   "execution_count": 542,
   "id": "91dbf292",
   "metadata": {},
   "outputs": [
    {
     "data": {
      "text/plain": [
       "Text(0, 0.5, 'Percentage of guests')"
      ]
     },
     "execution_count": 542,
     "metadata": {},
     "output_type": "execute_result"
    },
    {
     "data": {
      "image/png": "[encoded data removed]",
      "text/plain": [
       "<Figure size 864x360 with 1 Axes>"
      ]
     },
     "metadata": {
      "needs_background": "light"
     },
     "output_type": "display_data"
    }
   ],
   "source": [
    "# Visualizing the percentage of arrival_date_month  to count: \n",
    "fig = plt.figure(figsize=(12,5))\n",
    "plt.title(\"Percentage of guests per month\", fontsize = 20, pad = 10)\n",
    "sns.countplot(data=data, x = 'arrival_date_month', palette=['teal', 'lightblue'])\n",
    "plt.xlabel('Month', fontsize=15)\n",
    "plt.xticks(rotation=45,fontsize=11);\n",
    "plt.ylabel('Percentage of guests', fontsize=15)"
   ]
  },
  {
   "cell_type": "markdown",
   "id": "b2a13ab9",
   "metadata": {},
   "source": [
    "The above plot shows that August was the busiest month and January was the least (Probably because of the Holiday season in Summer in August and Heavy Winter in January) The high footfall in Jan is followed by July and May."
   ]
  },
  {
   "cell_type": "markdown",
   "id": "1d85b69f",
   "metadata": {},
   "source": [
    "### what is the highest month have cancellation ?"
   ]
  },
  {
   "cell_type": "code",
   "execution_count": 543,
   "id": "bc787eb8",
   "metadata": {
    "scrolled": true
   },
   "outputs": [
    {
     "data": {
      "text/plain": [
       "Text(0.5, 0, 'Percentage of cancellation')"
      ]
     },
     "execution_count": 543,
     "metadata": {},
     "output_type": "execute_result"
    },
    {
     "data": {
      "image/png": "[encoded data removed]",
      "text/plain": [
       "<Figure size 864x360 with 1 Axes>"
      ]
     },
     "metadata": {
      "needs_background": "light"
     },
     "output_type": "display_data"
    }
   ],
   "source": [
    "fig = plt.figure(figsize=(12,5))\n",
    "plt.title(\"Percentage of cancellation per month\", fontsize = 20, pad = 10)\n",
    "sns.barplot(data =data ,x = \"arrival_date_month\", y = \"is_canceled\", palette=['teal', 'lightblue'] )\n",
    "plt.xlabel('Month', fontsize=15)\n",
    "plt.xticks(rotation=45,fontsize=11);\n",
    "plt.xlabel('Percentage of cancellation', fontsize=15)"
   ]
  },
  {
   "cell_type": "markdown",
   "id": "720787c8",
   "metadata": {},
   "source": [
    "The highest cancellation rate was in June then April\n"
   ]
  },
  {
   "cell_type": "markdown",
   "id": "9841f72b",
   "metadata": {},
   "source": [
    "### what is the percentage of bookings canceled prior to arrival ?"
   ]
  },
  {
   "cell_type": "code",
   "execution_count": 544,
   "id": "46ae7dc5",
   "metadata": {},
   "outputs": [
    {
     "data": {
      "image/png": "[encoded data removed]",
      "text/plain": [
       "<Figure size 864x360 with 1 Axes>"
      ]
     },
     "metadata": {
      "needs_background": "light"
     },
     "output_type": "display_data"
    }
   ],
   "source": [
    "# Visualizing the percentage of bookings canceled prior to arrival \n",
    "plt.figure(figsize=(12,5)) \n",
    "plt.title(\"Percentage of Canceled vs 'No-Show' Bookings\", fontsize = 20, pad = 10)\n",
    "sns.barplot(x=data[data['is_canceled']==1]['reservation_status'].unique(), y=data[data['is_canceled']==1]['reservation_status'].value_counts(normalize=True), palette=['lightblue', 'lightslategrey'])\n",
    "plt.xlabel(\"Booking Status\", fontsize = 15, labelpad = 5)\n",
    "plt.ylabel(\"Percentage of Bookings\", fontsize = 12, labelpad = 5);"
   ]
  },
  {
   "cell_type": "markdown",
   "id": "e650f3ef",
   "metadata": {},
   "source": [
    "Interpretation: A vast majority of bookings (97%) are canceled prior to arrival.\n",
    "\n"
   ]
  },
  {
   "cell_type": "markdown",
   "id": "61b279c5",
   "metadata": {},
   "source": [
    "### correlation"
   ]
  },
  {
   "cell_type": "code",
   "execution_count": 545,
   "id": "0a09ee08",
   "metadata": {
    "scrolled": true
   },
   "outputs": [
    {
     "data": {
      "image/png": "[encoded data removed]",
      "text/plain": [
       "<Figure size 576x720 with 2 Axes>"
      ]
     },
     "metadata": {
      "needs_background": "light"
     },
     "output_type": "display_data"
    }
   ],
   "source": [
    "# Visualizing correlation coefficients between features and cancellation:\n",
    "fig = plt.figure(figsize=(8,10))\n",
    "ax = sns.heatmap(data.corr()[['is_canceled']].sort_values('is_canceled', ascending=False), annot = True, annot_kws = {\"size\":12}, cmap='Blues')\n",
    "ax.set_title('Correlation Coefficient Between Each Numeric Feature and Cancellation Status', fontsize=18)\n",
    "ax.set_xlabel('Features', fontsize = 16)\n",
    "ax.set_ylabel('Features', fontsize = 16)\n",
    "ax.tick_params(axis = \"both\", labelsize = 12);\n",
    "y_min, y_max = ax.get_ylim()\n",
    "ax.set_ylim(top=y_max+1);"
   ]
  },
  {
   "cell_type": "markdown",
   "id": "a4d05dcd",
   "metadata": {},
   "source": [
    "Lead time is the most highly correlated feature with whether or not a booking is canceled.\n",
    "\n",
    "The total number of special requests is the second feature with the strongest correlation to our cancellation target. special requests, the number of required car parking spaces is the third feature with the strongest correlation to our cancellation target\n",
    "\n",
    "Customer's prior history with the hotel ( the number of previous bookings not canceled or whether or not a customer is a repeated guest) does not seem to be highly correlated with whether or not the current booking will be canceled. On the other hand, a customer's prior history of cancellation (measured by the number of previous cancellations is more highly correlated with whether or not the current booking will be canceled.\n"
   ]
  },
  {
   "cell_type": "markdown",
   "id": "4e0e923e",
   "metadata": {},
   "source": [
    "### what is the average lead time for canceled and not canceled? "
   ]
  },
  {
   "cell_type": "code",
   "execution_count": 546,
   "id": "9a6ae611",
   "metadata": {},
   "outputs": [
    {
     "data": {
      "image/png": "[encoded data removed]",
      "text/plain": [
       "<Figure size 864x360 with 1 Axes>"
      ]
     },
     "metadata": {
      "needs_background": "light"
     },
     "output_type": "display_data"
    }
   ],
   "source": [
    "# Visualizing the average lead time for canceled and not canceled bookings:\n",
    "plt.figure(figsize=(12,5)) \n",
    "plt.title(\"Average Lead Time of Bookings per Status\", fontsize = 20, pad = 10)\n",
    "sns.barplot(x=data['is_canceled'], y=data['lead_time'], palette=['teal', 'lightblue'])\n",
    "plt.xlabel(\"Booking Status\", fontsize = 15, labelpad = 5)\n",
    "plt.ylabel(\"Average Lead Time (days)\", fontsize = 15, labelpad = 5)\n",
    "plt.xticks(ticks=[0, 1], labels=['Not Canceled', 'Canceled']);"
   ]
  },
  {
   "cell_type": "markdown",
   "id": "653f07ef",
   "metadata": {},
   "source": [
    "### Were most guests come from  ?"
   ]
  },
  {
   "cell_type": "code",
   "execution_count": 547,
   "id": "89c783a9",
   "metadata": {},
   "outputs": [
    {
     "data": {
      "image/png": "[encoded data removed]",
      "text/plain": [
       "<Figure size 864x288 with 1 Axes>"
      ]
     },
     "metadata": {
      "needs_background": "light"
     },
     "output_type": "display_data"
    }
   ],
   "source": [
    "#data['country'].value_counts()\n",
    "fig = plt.figure(figsize=(12,4))\n",
    "country_wise_guests = data[(data['is_canceled'] == 0)]['country'].value_counts().reset_index()\n",
    "country_wise_guests.columns = ['country', 'No of guests']\n",
    "country_wise_guests = country_wise_guests[country_wise_guests['No of guests'] > 60]\n",
    "sns.barplot(data=country_wise_guests, x = 'country', y = 'No of guests' , palette=['teal', 'lightblue'])\n",
    "plt.xticks(rotation=90,fontsize=11);"
   ]
  },
  {
   "cell_type": "markdown",
   "id": "a956b075",
   "metadata": {},
   "source": [
    "Most of the guest are from Portugal then the second is  Great Britain,\n",
    "then Next is France, Spain, Germany, and Ireland\n"
   ]
  },
  {
   "cell_type": "markdown",
   "id": "4ba9bdcc",
   "metadata": {},
   "source": [
    "### What about the effect of deposit in cancellation ?"
   ]
  },
  {
   "cell_type": "code",
   "execution_count": 548,
   "id": "8c3f93bf",
   "metadata": {},
   "outputs": [
    {
     "data": {
      "image/png": "[encoded data removed]",
      "text/plain": [
       "<Figure size 864x360 with 1 Axes>"
      ]
     },
     "metadata": {},
     "output_type": "display_data"
    }
   ],
   "source": [
    "proportion = data['deposit_type'].value_counts()\n",
    "labels = ['No Deposit','Non Refundable','Refundable']\n",
    "plt.figure(figsize=(12,5))\n",
    "plt.title('Proportion of Total Bookings by Deposit Type',weight = 'bold' )\n",
    "plt.pie(proportion,labels=labels, autopct = '%1.1f%%', wedgeprops= {'edgecolor':'black'},textprops={'fontsize':14} , colors = ['#ADD8E6','#007399'])\n",
    "plt.show()\n"
   ]
  },
  {
   "cell_type": "markdown",
   "id": "e5e75fd7",
   "metadata": {},
   "source": [
    "\n",
    "Interpretation: \n",
    "Around 87.6% bookings are booked without deposit, 12.2% bookings are booked with Non Refundable Policy and 0.1% bookings are booked with Refundable Policy, Reservations with No-deposit or Non-refund policy are more likely to be canceled\n",
    "Surprisingly, customers who pay a non-refundable deposit have a much higher percentage of canceled reservations.\n"
   ]
  },
  {
   "cell_type": "code",
   "execution_count": 549,
   "id": "32005eee",
   "metadata": {},
   "outputs": [
    {
     "data": {
      "text/plain": [
       "Text(0.5, 0, 'customer type')"
      ]
     },
     "execution_count": 549,
     "metadata": {},
     "output_type": "execute_result"
    },
    {
     "data": {
      "image/png": "[encoded data removed]",
      "text/plain": [
       "<Figure size 864x360 with 1 Axes>"
      ]
     },
     "metadata": {
      "needs_background": "light"
     },
     "output_type": "display_data"
    }
   ],
   "source": [
    "# Visualizing  customer type for total nights \n",
    "plt.figure(figsize=(12,5)) \n",
    "plt.title(\"Percentage of customer type per  total nights\", fontsize = 20, pad = 10)\n",
    "sns.barplot(x=data['customer_type'], y=data['total_nights'], palette=['teal', 'lightblue'])\n",
    "plt.xlabel(\"customer type\", fontsize = 15, labelpad = 5)"
   ]
  },
  {
   "cell_type": "markdown",
   "id": "1aad25c7",
   "metadata": {},
   "source": [
    "Contract type clients had the highest  total night stay rate"
   ]
  },
  {
   "cell_type": "markdown",
   "id": "c1b9f9bf",
   "metadata": {},
   "source": [
    "### Data Pre-Processing"
   ]
  },
  {
   "cell_type": "code",
   "execution_count": 550,
   "id": "204b0ae2",
   "metadata": {},
   "outputs": [],
   "source": [
    "data = pd.get_dummies(data, columns=['arrival_date_month', 'meal', 'market_segment', 'distribution_channel', 'reserved_room_type', 'assigned_room_type', 'deposit_type', 'customer_type'])"
   ]
  },
  {
   "cell_type": "code",
   "execution_count": 551,
   "id": "de2e0f2b",
   "metadata": {},
   "outputs": [],
   "source": [
    "import random\n",
    "\n",
    "X = data.drop(columns=['hotel','is_canceled','reservation_status', 'agent', 'company', 'country', \n",
    "                     'reservation_status_date', 'arrival_date','total_nights' ])\n",
    "y = data['is_canceled']\n",
    "\n",
    "X_train, X_test, y_train, y_test = train_test_split(X, y, random_state=RANDOM_STATE, stratify=y, test_size=0.15)\n"
   ]
  },
  {
   "cell_type": "code",
   "execution_count": 552,
   "id": "556dcc68",
   "metadata": {},
   "outputs": [],
   "source": [
    "# feature scaling\n",
    "from sklearn.preprocessing import StandardScaler\n",
    "scaler = StandardScaler()\n",
    "X_train_scaled = scaler.fit_transform(X_train)\n",
    "X_test_scaled = scaler.transform(X_test)"
   ]
  },
  {
   "cell_type": "code",
   "execution_count": 553,
   "id": "3b3ffc23",
   "metadata": {},
   "outputs": [
    {
     "data": {
      "text/plain": [
       "array([[ 0.6732292 , -0.22217047, -1.03846427, ..., -0.06893888,\n",
       "         0.57723648, -0.51738061],\n",
       "       [-0.9153446 ,  1.19222192, -1.25882101, ..., -0.06893888,\n",
       "         0.57723648, -0.51738061],\n",
       "       [ 1.17783499,  1.19222192, -0.37739405, ..., -0.06893888,\n",
       "         0.57723648, -0.51738061],\n",
       "       ...,\n",
       "       [-0.87796639, -1.63656286,  0.43058066, ..., -0.06893888,\n",
       "         0.57723648, -0.51738061],\n",
       "       [ 2.43934948, -0.22217047,  1.09165088, ..., -0.06893888,\n",
       "        -1.73239224,  1.93281305],\n",
       "       [-0.27991508, -1.63656286,  0.7978419 , ..., -0.06893888,\n",
       "        -1.73239224,  1.93281305]])"
      ]
     },
     "execution_count": 553,
     "metadata": {},
     "output_type": "execute_result"
    }
   ],
   "source": [
    "X_test_scaled"
   ]
  },
  {
   "cell_type": "markdown",
   "id": "d53598b5",
   "metadata": {},
   "source": [
    "# Model"
   ]
  },
  {
   "cell_type": "markdown",
   "id": "94d03844",
   "metadata": {},
   "source": [
    "## DecisionTree Model"
   ]
  },
  {
   "cell_type": "code",
   "execution_count": 554,
   "id": "f7cff2d0",
   "metadata": {},
   "outputs": [
    {
     "name": "stdout",
     "output_type": "stream",
     "text": [
      "[[9646 1629]\n",
      " [1488 5145]]\n",
      "              precision    recall  f1-score   support\n",
      "\n",
      "           0       0.87      0.86      0.86     11275\n",
      "           1       0.76      0.78      0.77      6633\n",
      "\n",
      "    accuracy                           0.83     17908\n",
      "   macro avg       0.81      0.82      0.81     17908\n",
      "weighted avg       0.83      0.83      0.83     17908\n",
      "\n",
      "<sklearn.metrics._plot.confusion_matrix.ConfusionMatrixDisplay object at 0x000001EEBF6A91F0>\n"
     ]
    },
    {
     "data": {
      "image/png": "[encoded data removed]",
      "text/plain": [
       "<Figure size 432x288 with 2 Axes>"
      ]
     },
     "metadata": {
      "needs_background": "light"
     },
     "output_type": "display_data"
    }
   ],
   "source": [
    "from sklearn.linear_model import LogisticRegression\n",
    "from sklearn.metrics import recall_score\n",
    "from sklearn.metrics import accuracy_score\n",
    "from sklearn.metrics import f1_score\n",
    "\n",
    "dtree = DecisionTreeClassifier()\n",
    "dtree.fit(X_train, y_train)\n",
    "DecisionTreeClassifier()\n",
    "tree_pred = dtree.predict(X_test)\n",
    "\n",
    "print(confusion_matrix(y_test, tree_pred))\n",
    "print(classification_report(y_test, tree_pred))\n",
    "print(plot_confusion_matrix(dtree, X_test ,y_test ))"
   ]
  },
  {
   "cell_type": "markdown",
   "id": "6f109920",
   "metadata": {},
   "source": [
    "# The Random Forest model"
   ]
  },
  {
   "cell_type": "code",
   "execution_count": 555,
   "id": "2fd69a87",
   "metadata": {},
   "outputs": [
    {
     "name": "stdout",
     "output_type": "stream",
     "text": [
      "[[10490   785]\n",
      " [ 1502  5131]]\n",
      "              precision    recall  f1-score   support\n",
      "\n",
      "           0       0.87      0.93      0.90     11275\n",
      "           1       0.87      0.77      0.82      6633\n",
      "\n",
      "    accuracy                           0.87     17908\n",
      "   macro avg       0.87      0.85      0.86     17908\n",
      "weighted avg       0.87      0.87      0.87     17908\n",
      "\n",
      "<sklearn.metrics._plot.confusion_matrix.ConfusionMatrixDisplay object at 0x000001EEC99C56A0>\n"
     ]
    },
    {
     "data": {
      "image/png": "[encoded data removed]",
      "text/plain": [
       "<Figure size 432x288 with 2 Axes>"
      ]
     },
     "metadata": {
      "needs_background": "light"
     },
     "output_type": "display_data"
    }
   ],
   "source": [
    "from sklearn.ensemble import RandomForestClassifier\n",
    "rf = RandomForestClassifier()\n",
    "rf.fit(X_train, y_train)\n",
    "RandomForestClassifier()\n",
    "rf_pred = rf.predict(X_test)\n",
    "print(confusion_matrix(y_test, rf_pred))\n",
    "print(classification_report(y_test, rf_pred))\n",
    "print(plot_confusion_matrix(rf, X_test, y_test))"
   ]
  },
  {
   "cell_type": "markdown",
   "id": "57e0667e",
   "metadata": {},
   "source": [
    "### KNN"
   ]
  },
  {
   "cell_type": "code",
   "execution_count": 563,
   "id": "a6fadd4a",
   "metadata": {},
   "outputs": [
    {
     "name": "stdout",
     "output_type": "stream",
     "text": [
      "[[10332   943]\n",
      " [ 2196  4437]]\n",
      "              precision    recall  f1-score   support\n",
      "\n",
      "           0       0.92      0.82      0.87     12528\n",
      "           1       0.67      0.82      0.74      5380\n",
      "\n",
      "    accuracy                           0.82     17908\n",
      "   macro avg       0.79      0.82      0.80     17908\n",
      "weighted avg       0.84      0.82      0.83     17908\n",
      "\n",
      "<sklearn.metrics._plot.confusion_matrix.ConfusionMatrixDisplay object at 0x000001EEC99627C0>\n"
     ]
    },
    {
     "data": {
      "image/png": "[encoded data removed]",
      "text/plain": [
       "<Figure size 432x288 with 2 Axes>"
      ]
     },
     "metadata": {
      "needs_background": "light"
     },
     "output_type": "display_data"
    }
   ],
   "source": [
    "#KNN\n",
    "from sklearn.neighbors import KNeighborsClassifier\n",
    "knn = KNeighborsClassifier\n",
    ")\n",
    "knn.fit(X_train_scaled,y_train)\n",
    "y_pred_knn = knn.predict(X_test_scaled)\n",
    "from sklearn.metrics import classification_report\n",
    "print(confusion_matrix(y_test, y_pred_knn ))\n",
    "print(classification_report(y_pred_knn,y_test))\n",
    "print(plot_confusion_matrix(knn , X_test ,  y_test ))"
   ]
  },
  {
   "cell_type": "markdown",
   "id": "35a118dc",
   "metadata": {},
   "source": [
    "## Logistic Regression Model"
   ]
  },
  {
   "cell_type": "code",
   "execution_count": 556,
   "id": "ce739af5",
   "metadata": {},
   "outputs": [
    {
     "name": "stderr",
     "output_type": "stream",
     "text": [
      "C:\\Users\\lama\\anaconda3\\lib\\site-packages\\sklearn\\linear_model\\_logistic.py:763: ConvergenceWarning: lbfgs failed to converge (status=1):\n",
      "STOP: TOTAL NO. of ITERATIONS REACHED LIMIT.\n",
      "\n",
      "Increase the number of iterations (max_iter) or scale the data as shown in:\n",
      "    https://scikit-learn.org/stable/modules/preprocessing.html\n",
      "Please also refer to the documentation for alternative solver options:\n",
      "    https://scikit-learn.org/stable/modules/linear_model.html#logistic-regression\n",
      "  n_iter_i = _check_optimize_result(\n"
     ]
    },
    {
     "name": "stdout",
     "output_type": "stream",
     "text": [
      "[[9877 1398]\n",
      " [2590 4043]]\n",
      "              precision    recall  f1-score   support\n",
      "\n",
      "           0       0.79      0.88      0.83     11275\n",
      "           1       0.74      0.61      0.67      6633\n",
      "\n",
      "    accuracy                           0.78     17908\n",
      "   macro avg       0.77      0.74      0.75     17908\n",
      "weighted avg       0.77      0.78      0.77     17908\n",
      "\n",
      "<sklearn.metrics._plot.confusion_matrix.ConfusionMatrixDisplay object at 0x000001EEC900DAC0>\n"
     ]
    },
    {
     "data": {
      "image/png": "[encoded data removed]",
      "text/plain": [
       "<Figure size 432x288 with 2 Axes>"
      ]
     },
     "metadata": {
      "needs_background": "light"
     },
     "output_type": "display_data"
    }
   ],
   "source": [
    "from sklearn.linear_model import LogisticRegression\n",
    "\n",
    "\n",
    "LR = LogisticRegression()\n",
    "LR.fit(X_train, y_train)\n",
    "LogisticRegression()\n",
    "LR_pred = LR.predict(X_test)\n",
    "print(confusion_matrix(y_test, LR_pred))\n",
    "print(classification_report(y_test, LR_pred))\n",
    "print(plot_confusion_matrix(LR , X_test ,  y_test ))"
   ]
  },
  {
   "cell_type": "code",
   "execution_count": 570,
   "id": "e2ede46e",
   "metadata": {},
   "outputs": [
    {
     "data": {
      "text/html": [
       "<div>\n",
       "<style scoped>\n",
       "    .dataframe tbody tr th:only-of-type {\n",
       "        vertical-align: middle;\n",
       "    }\n",
       "\n",
       "    .dataframe tbody tr th {\n",
       "        vertical-align: top;\n",
       "    }\n",
       "\n",
       "    .dataframe thead th {\n",
       "        text-align: right;\n",
       "    }\n",
       "</style>\n",
       "<table border=\"1\" class=\"dataframe\">\n",
       "  <thead>\n",
       "    <tr style=\"text-align: right;\">\n",
       "      <th></th>\n",
       "      <th>model</th>\n",
       "      <th>accuracy</th>\n",
       "    </tr>\n",
       "  </thead>\n",
       "  <tbody>\n",
       "    <tr>\n",
       "      <th>0</th>\n",
       "      <td>Decision Tree</td>\n",
       "      <td>0.83</td>\n",
       "    </tr>\n",
       "    <tr>\n",
       "      <th>1</th>\n",
       "      <td>Random Forest</td>\n",
       "      <td>0.87</td>\n",
       "    </tr>\n",
       "    <tr>\n",
       "      <th>2</th>\n",
       "      <td>KNN</td>\n",
       "      <td>0.82</td>\n",
       "    </tr>\n",
       "    <tr>\n",
       "      <th>3</th>\n",
       "      <td>Logistic Regression</td>\n",
       "      <td>0.78</td>\n",
       "    </tr>\n",
       "  </tbody>\n",
       "</table>\n",
       "</div>"
      ],
      "text/plain": [
       "                  model  accuracy\n",
       "0         Decision Tree      0.83\n",
       "1         Random Forest      0.87\n",
       "2                   KNN      0.82\n",
       "3  Logistic Regression       0.78"
      ]
     },
     "execution_count": 570,
     "metadata": {},
     "output_type": "execute_result"
    }
   ],
   "source": [
    "# Creating a dataframe to compare our models' performances:\n",
    "predictive_model_scores = pd.DataFrame(data=[('Decision Tree',0.83), ('Random Forest', 0.87), \n",
    "                                             ('KNN',0.82 ),('Logistic Regression ', 0.78 )],\n",
    "                                       columns=['model', 'accuracy'])\n",
    "predictive_model_scores"
   ]
  },
  {
   "cell_type": "markdown",
   "id": "a0f55076",
   "metadata": {},
   "source": [
    "# Conclusion "
   ]
  },
  {
   "cell_type": "markdown",
   "id": "9dc2b791",
   "metadata": {},
   "source": [
    "#### We identified a Random Forest as the model giving us the highest predictive power.This model classifies whether or not a booking will be canceled with  87% accuracy. As a result, this model would allow hotels to more accurately forecast their occupancy, manage their business accordingly, and increase their revenue.\n",
    " "
   ]
  }
 ],
 "metadata": {
  "kernelspec": {
   "display_name": "Python 3",
   "language": "python",
   "name": "python3"
  },
  "language_info": {
   "codemirror_mode": {
    "name": "ipython",
    "version": 3
   },
   "file_extension": ".py",
   "mimetype": "text/x-python",
   "name": "python",
   "nbconvert_exporter": "python",
   "pygments_lexer": "ipython3",
   "version": "3.8.8"
  }
 },
 "nbformat": 4,
 "nbformat_minor": 5
}
